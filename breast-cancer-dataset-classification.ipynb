{
 "cells": [
  {
   "cell_type": "markdown",
   "id": "6a9ebfaa",
   "metadata": {
    "id": "Lb9-_qwWFbEo",
    "papermill": {
     "duration": 0.042087,
     "end_time": "2022-04-16T08:45:06.134242",
     "exception": false,
     "start_time": "2022-04-16T08:45:06.092155",
     "status": "completed"
    },
    "tags": []
   },
   "source": [
    "###Loading the dataset"
   ]
  },
  {
   "cell_type": "code",
   "execution_count": 1,
   "id": "8fed6075",
   "metadata": {
    "execution": {
     "iopub.execute_input": "2022-04-16T08:45:06.233936Z",
     "iopub.status.busy": "2022-04-16T08:45:06.233145Z",
     "iopub.status.idle": "2022-04-16T08:45:07.479765Z",
     "shell.execute_reply": "2022-04-16T08:45:07.478968Z"
    },
    "id": "1lXIraoK-Axf",
    "papermill": {
     "duration": 1.301591,
     "end_time": "2022-04-16T08:45:07.482239",
     "exception": false,
     "start_time": "2022-04-16T08:45:06.180648",
     "status": "completed"
    },
    "tags": []
   },
   "outputs": [],
   "source": [
    "from sklearn.datasets import load_breast_cancer\n",
    "import pandas as pd\n",
    "import numpy as np\n",
    "import matplotlib.pyplot as plt\n",
    "import seaborn as sns"
   ]
  },
  {
   "cell_type": "code",
   "execution_count": 2,
   "id": "7e3aa13b",
   "metadata": {
    "execution": {
     "iopub.execute_input": "2022-04-16T08:45:07.563968Z",
     "iopub.status.busy": "2022-04-16T08:45:07.563416Z",
     "iopub.status.idle": "2022-04-16T08:45:07.817847Z",
     "shell.execute_reply": "2022-04-16T08:45:07.816922Z"
    },
    "id": "KIJs61--cAo9",
    "papermill": {
     "duration": 0.296064,
     "end_time": "2022-04-16T08:45:07.820223",
     "exception": false,
     "start_time": "2022-04-16T08:45:07.524159",
     "status": "completed"
    },
    "tags": []
   },
   "outputs": [],
   "source": [
    "from sklearn.model_selection import GridSearchCV\n",
    "from sklearn.linear_model import LogisticRegression\n",
    "from sklearn.linear_model import LogisticRegressionCV\n",
    "from sklearn.svm import SVC\n",
    "from sklearn.ensemble import RandomForestClassifier\n",
    "from sklearn.tree import DecisionTreeClassifier"
   ]
  },
  {
   "cell_type": "code",
   "execution_count": 3,
   "id": "a56514ae",
   "metadata": {
    "execution": {
     "iopub.execute_input": "2022-04-16T08:45:07.899442Z",
     "iopub.status.busy": "2022-04-16T08:45:07.899151Z",
     "iopub.status.idle": "2022-04-16T08:45:07.960263Z",
     "shell.execute_reply": "2022-04-16T08:45:07.959491Z"
    },
    "executionInfo": {
     "elapsed": 8,
     "status": "ok",
     "timestamp": 1649971949659,
     "user": {
      "displayName": "Benedict Espiritu",
      "userId": "10586568919314508963"
     },
     "user_tz": -480
    },
    "id": "V5O8jHee-MJM",
    "outputId": "16007c20-487e-4a71-a266-c6475972569c",
    "papermill": {
     "duration": 0.103871,
     "end_time": "2022-04-16T08:45:07.963009",
     "exception": false,
     "start_time": "2022-04-16T08:45:07.859138",
     "status": "completed"
    },
    "tags": []
   },
   "outputs": [
    {
     "data": {
      "text/html": [
       "<div>\n",
       "<style scoped>\n",
       "    .dataframe tbody tr th:only-of-type {\n",
       "        vertical-align: middle;\n",
       "    }\n",
       "\n",
       "    .dataframe tbody tr th {\n",
       "        vertical-align: top;\n",
       "    }\n",
       "\n",
       "    .dataframe thead th {\n",
       "        text-align: right;\n",
       "    }\n",
       "</style>\n",
       "<table border=\"1\" class=\"dataframe\">\n",
       "  <thead>\n",
       "    <tr style=\"text-align: right;\">\n",
       "      <th></th>\n",
       "      <th>mean radius</th>\n",
       "      <th>mean texture</th>\n",
       "      <th>mean perimeter</th>\n",
       "      <th>mean area</th>\n",
       "      <th>mean smoothness</th>\n",
       "      <th>mean compactness</th>\n",
       "      <th>mean concavity</th>\n",
       "      <th>mean concave points</th>\n",
       "      <th>mean symmetry</th>\n",
       "      <th>mean fractal dimension</th>\n",
       "      <th>...</th>\n",
       "      <th>worst texture</th>\n",
       "      <th>worst perimeter</th>\n",
       "      <th>worst area</th>\n",
       "      <th>worst smoothness</th>\n",
       "      <th>worst compactness</th>\n",
       "      <th>worst concavity</th>\n",
       "      <th>worst concave points</th>\n",
       "      <th>worst symmetry</th>\n",
       "      <th>worst fractal dimension</th>\n",
       "      <th>Diagnosis</th>\n",
       "    </tr>\n",
       "  </thead>\n",
       "  <tbody>\n",
       "    <tr>\n",
       "      <th>0</th>\n",
       "      <td>17.99</td>\n",
       "      <td>10.38</td>\n",
       "      <td>122.80</td>\n",
       "      <td>1001.0</td>\n",
       "      <td>0.11840</td>\n",
       "      <td>0.27760</td>\n",
       "      <td>0.3001</td>\n",
       "      <td>0.14710</td>\n",
       "      <td>0.2419</td>\n",
       "      <td>0.07871</td>\n",
       "      <td>...</td>\n",
       "      <td>17.33</td>\n",
       "      <td>184.60</td>\n",
       "      <td>2019.0</td>\n",
       "      <td>0.1622</td>\n",
       "      <td>0.6656</td>\n",
       "      <td>0.7119</td>\n",
       "      <td>0.2654</td>\n",
       "      <td>0.4601</td>\n",
       "      <td>0.11890</td>\n",
       "      <td>0</td>\n",
       "    </tr>\n",
       "    <tr>\n",
       "      <th>1</th>\n",
       "      <td>20.57</td>\n",
       "      <td>17.77</td>\n",
       "      <td>132.90</td>\n",
       "      <td>1326.0</td>\n",
       "      <td>0.08474</td>\n",
       "      <td>0.07864</td>\n",
       "      <td>0.0869</td>\n",
       "      <td>0.07017</td>\n",
       "      <td>0.1812</td>\n",
       "      <td>0.05667</td>\n",
       "      <td>...</td>\n",
       "      <td>23.41</td>\n",
       "      <td>158.80</td>\n",
       "      <td>1956.0</td>\n",
       "      <td>0.1238</td>\n",
       "      <td>0.1866</td>\n",
       "      <td>0.2416</td>\n",
       "      <td>0.1860</td>\n",
       "      <td>0.2750</td>\n",
       "      <td>0.08902</td>\n",
       "      <td>0</td>\n",
       "    </tr>\n",
       "    <tr>\n",
       "      <th>2</th>\n",
       "      <td>19.69</td>\n",
       "      <td>21.25</td>\n",
       "      <td>130.00</td>\n",
       "      <td>1203.0</td>\n",
       "      <td>0.10960</td>\n",
       "      <td>0.15990</td>\n",
       "      <td>0.1974</td>\n",
       "      <td>0.12790</td>\n",
       "      <td>0.2069</td>\n",
       "      <td>0.05999</td>\n",
       "      <td>...</td>\n",
       "      <td>25.53</td>\n",
       "      <td>152.50</td>\n",
       "      <td>1709.0</td>\n",
       "      <td>0.1444</td>\n",
       "      <td>0.4245</td>\n",
       "      <td>0.4504</td>\n",
       "      <td>0.2430</td>\n",
       "      <td>0.3613</td>\n",
       "      <td>0.08758</td>\n",
       "      <td>0</td>\n",
       "    </tr>\n",
       "    <tr>\n",
       "      <th>3</th>\n",
       "      <td>11.42</td>\n",
       "      <td>20.38</td>\n",
       "      <td>77.58</td>\n",
       "      <td>386.1</td>\n",
       "      <td>0.14250</td>\n",
       "      <td>0.28390</td>\n",
       "      <td>0.2414</td>\n",
       "      <td>0.10520</td>\n",
       "      <td>0.2597</td>\n",
       "      <td>0.09744</td>\n",
       "      <td>...</td>\n",
       "      <td>26.50</td>\n",
       "      <td>98.87</td>\n",
       "      <td>567.7</td>\n",
       "      <td>0.2098</td>\n",
       "      <td>0.8663</td>\n",
       "      <td>0.6869</td>\n",
       "      <td>0.2575</td>\n",
       "      <td>0.6638</td>\n",
       "      <td>0.17300</td>\n",
       "      <td>0</td>\n",
       "    </tr>\n",
       "    <tr>\n",
       "      <th>4</th>\n",
       "      <td>20.29</td>\n",
       "      <td>14.34</td>\n",
       "      <td>135.10</td>\n",
       "      <td>1297.0</td>\n",
       "      <td>0.10030</td>\n",
       "      <td>0.13280</td>\n",
       "      <td>0.1980</td>\n",
       "      <td>0.10430</td>\n",
       "      <td>0.1809</td>\n",
       "      <td>0.05883</td>\n",
       "      <td>...</td>\n",
       "      <td>16.67</td>\n",
       "      <td>152.20</td>\n",
       "      <td>1575.0</td>\n",
       "      <td>0.1374</td>\n",
       "      <td>0.2050</td>\n",
       "      <td>0.4000</td>\n",
       "      <td>0.1625</td>\n",
       "      <td>0.2364</td>\n",
       "      <td>0.07678</td>\n",
       "      <td>0</td>\n",
       "    </tr>\n",
       "  </tbody>\n",
       "</table>\n",
       "<p>5 rows × 31 columns</p>\n",
       "</div>"
      ],
      "text/plain": [
       "   mean radius  mean texture  mean perimeter  mean area  mean smoothness  \\\n",
       "0        17.99         10.38          122.80     1001.0          0.11840   \n",
       "1        20.57         17.77          132.90     1326.0          0.08474   \n",
       "2        19.69         21.25          130.00     1203.0          0.10960   \n",
       "3        11.42         20.38           77.58      386.1          0.14250   \n",
       "4        20.29         14.34          135.10     1297.0          0.10030   \n",
       "\n",
       "   mean compactness  mean concavity  mean concave points  mean symmetry  \\\n",
       "0           0.27760          0.3001              0.14710         0.2419   \n",
       "1           0.07864          0.0869              0.07017         0.1812   \n",
       "2           0.15990          0.1974              0.12790         0.2069   \n",
       "3           0.28390          0.2414              0.10520         0.2597   \n",
       "4           0.13280          0.1980              0.10430         0.1809   \n",
       "\n",
       "   mean fractal dimension  ...  worst texture  worst perimeter  worst area  \\\n",
       "0                 0.07871  ...          17.33           184.60      2019.0   \n",
       "1                 0.05667  ...          23.41           158.80      1956.0   \n",
       "2                 0.05999  ...          25.53           152.50      1709.0   \n",
       "3                 0.09744  ...          26.50            98.87       567.7   \n",
       "4                 0.05883  ...          16.67           152.20      1575.0   \n",
       "\n",
       "   worst smoothness  worst compactness  worst concavity  worst concave points  \\\n",
       "0            0.1622             0.6656           0.7119                0.2654   \n",
       "1            0.1238             0.1866           0.2416                0.1860   \n",
       "2            0.1444             0.4245           0.4504                0.2430   \n",
       "3            0.2098             0.8663           0.6869                0.2575   \n",
       "4            0.1374             0.2050           0.4000                0.1625   \n",
       "\n",
       "   worst symmetry  worst fractal dimension  Diagnosis  \n",
       "0          0.4601                  0.11890          0  \n",
       "1          0.2750                  0.08902          0  \n",
       "2          0.3613                  0.08758          0  \n",
       "3          0.6638                  0.17300          0  \n",
       "4          0.2364                  0.07678          0  \n",
       "\n",
       "[5 rows x 31 columns]"
      ]
     },
     "execution_count": 3,
     "metadata": {},
     "output_type": "execute_result"
    }
   ],
   "source": [
    "data = load_breast_cancer()\n",
    "\n",
    "data_df = pd.DataFrame(data.data, columns=data.feature_names)\n",
    "target_df = pd.DataFrame(data.target).rename(columns={0:'Diagnosis'})\n",
    "\n",
    "dataset_df = pd.concat([data_df, target_df], axis=1)\n",
    "\n",
    "dataset_df.head()"
   ]
  },
  {
   "cell_type": "markdown",
   "id": "d15a667c",
   "metadata": {
    "id": "DcsJP5u3Ezir",
    "papermill": {
     "duration": 0.038578,
     "end_time": "2022-04-16T08:45:08.041267",
     "exception": false,
     "start_time": "2022-04-16T08:45:08.002689",
     "status": "completed"
    },
    "tags": []
   },
   "source": [
    "###Feature Selection"
   ]
  },
  {
   "cell_type": "markdown",
   "id": "3a461e12",
   "metadata": {
    "id": "o5cj_OcOOZxz",
    "papermill": {
     "duration": 0.03949,
     "end_time": "2022-04-16T08:45:08.120445",
     "exception": false,
     "start_time": "2022-04-16T08:45:08.080955",
     "status": "completed"
    },
    "tags": []
   },
   "source": [
    "Map the correlation to see highly correlated features"
   ]
  },
  {
   "cell_type": "code",
   "execution_count": 4,
   "id": "a4459f6f",
   "metadata": {
    "execution": {
     "iopub.execute_input": "2022-04-16T08:45:08.200238Z",
     "iopub.status.busy": "2022-04-16T08:45:08.199716Z",
     "iopub.status.idle": "2022-04-16T08:45:08.957559Z",
     "shell.execute_reply": "2022-04-16T08:45:08.956744Z"
    },
    "executionInfo": {
     "elapsed": 2153,
     "status": "ok",
     "timestamp": 1649971951807,
     "user": {
      "displayName": "Benedict Espiritu",
      "userId": "10586568919314508963"
     },
     "user_tz": -480
    },
    "id": "7ePu9lxO-WHX",
    "outputId": "03a002f4-6db3-4d51-95f0-cd7dbb906f1d",
    "papermill": {
     "duration": 0.80041,
     "end_time": "2022-04-16T08:45:08.959814",
     "exception": false,
     "start_time": "2022-04-16T08:45:08.159404",
     "status": "completed"
    },
    "tags": []
   },
   "outputs": [
    {
     "data": {
      "image/png": "[encoded data removed]",
      "text/plain": [
       "<Figure size 504x504 with 2 Axes>"
      ]
     },
     "metadata": {
      "needs_background": "light"
     },
     "output_type": "display_data"
    }
   ],
   "source": [
    "plt.figure(figsize=(7,7));\n",
    "\n",
    "sns.heatmap(dataset_df.corr());"
   ]
  },
  {
   "cell_type": "markdown",
   "id": "6fb1b9a4",
   "metadata": {
    "id": "TLRRV6O7Ofgx",
    "papermill": {
     "duration": 0.041142,
     "end_time": "2022-04-16T08:45:09.042961",
     "exception": false,
     "start_time": "2022-04-16T08:45:09.001819",
     "status": "completed"
    },
    "tags": []
   },
   "source": [
    "Filter the correlation to between 0.85 and 0.99"
   ]
  },
  {
   "cell_type": "code",
   "execution_count": 5,
   "id": "e56e5eea",
   "metadata": {
    "execution": {
     "iopub.execute_input": "2022-04-16T08:45:09.126725Z",
     "iopub.status.busy": "2022-04-16T08:45:09.126371Z",
     "iopub.status.idle": "2022-04-16T08:45:10.020001Z",
     "shell.execute_reply": "2022-04-16T08:45:10.019095Z"
    },
    "executionInfo": {
     "elapsed": 1995,
     "status": "ok",
     "timestamp": 1649971953799,
     "user": {
      "displayName": "Benedict Espiritu",
      "userId": "10586568919314508963"
     },
     "user_tz": -480
    },
    "id": "-huRDfJa-p_k",
    "outputId": "6b93c3cd-2e22-42d4-9b58-d065fee18508",
    "papermill": {
     "duration": 0.939765,
     "end_time": "2022-04-16T08:45:10.023405",
     "exception": false,
     "start_time": "2022-04-16T08:45:09.083640",
     "status": "completed"
    },
    "tags": []
   },
   "outputs": [
    {
     "data": {
      "image/png": "[encoded data removed]",
      "text/plain": [
       "<Figure size 504x504 with 2 Axes>"
      ]
     },
     "metadata": {
      "needs_background": "light"
     },
     "output_type": "display_data"
    }
   ],
   "source": [
    "corr = dataset_df.corr()\n",
    "\n",
    "plt.figure(figsize=(7,7));\n",
    "sns.heatmap(corr[(corr>0.9) & (corr != 1.0)], linewidths=0.5, linecolor='black', annot=True);"
   ]
  },
  {
   "cell_type": "markdown",
   "id": "436abb8a",
   "metadata": {
    "id": "5TpE-OF4Ol7W",
    "papermill": {
     "duration": 0.042469,
     "end_time": "2022-04-16T08:45:10.111785",
     "exception": false,
     "start_time": "2022-04-16T08:45:10.069316",
     "status": "completed"
    },
    "tags": []
   },
   "source": [
    "Mean/Worst/Error radius, perimeter, and area are highly correlated. One feature could be chosen to represent the three of them.\n",
    "\n"
   ]
  },
  {
   "cell_type": "code",
   "execution_count": 6,
   "id": "f41be1fe",
   "metadata": {
    "execution": {
     "iopub.execute_input": "2022-04-16T08:45:10.199166Z",
     "iopub.status.busy": "2022-04-16T08:45:10.198877Z",
     "iopub.status.idle": "2022-04-16T08:45:10.229866Z",
     "shell.execute_reply": "2022-04-16T08:45:10.229066Z"
    },
    "executionInfo": {
     "elapsed": 11,
     "status": "ok",
     "timestamp": 1649971953800,
     "user": {
      "displayName": "Benedict Espiritu",
      "userId": "10586568919314508963"
     },
     "user_tz": -480
    },
    "id": "P6qvP8qHQUyx",
    "outputId": "039574fd-d879-4dac-84d6-0890805e2c7e",
    "papermill": {
     "duration": 0.077276,
     "end_time": "2022-04-16T08:45:10.232011",
     "exception": false,
     "start_time": "2022-04-16T08:45:10.154735",
     "status": "completed"
    },
    "tags": []
   },
   "outputs": [
    {
     "data": {
      "text/html": [
       "<div>\n",
       "<style scoped>\n",
       "    .dataframe tbody tr th:only-of-type {\n",
       "        vertical-align: middle;\n",
       "    }\n",
       "\n",
       "    .dataframe tbody tr th {\n",
       "        vertical-align: top;\n",
       "    }\n",
       "\n",
       "    .dataframe thead th {\n",
       "        text-align: right;\n",
       "    }\n",
       "</style>\n",
       "<table border=\"1\" class=\"dataframe\">\n",
       "  <thead>\n",
       "    <tr style=\"text-align: right;\">\n",
       "      <th></th>\n",
       "      <th>mean texture</th>\n",
       "      <th>mean area</th>\n",
       "      <th>mean smoothness</th>\n",
       "      <th>mean compactness</th>\n",
       "      <th>mean concavity</th>\n",
       "      <th>mean symmetry</th>\n",
       "      <th>mean fractal dimension</th>\n",
       "      <th>texture error</th>\n",
       "      <th>area error</th>\n",
       "      <th>smoothness error</th>\n",
       "      <th>compactness error</th>\n",
       "      <th>concavity error</th>\n",
       "      <th>concave points error</th>\n",
       "      <th>symmetry error</th>\n",
       "      <th>fractal dimension error</th>\n",
       "      <th>worst smoothness</th>\n",
       "      <th>worst compactness</th>\n",
       "      <th>worst concavity</th>\n",
       "      <th>worst symmetry</th>\n",
       "      <th>worst fractal dimension</th>\n",
       "    </tr>\n",
       "  </thead>\n",
       "  <tbody>\n",
       "    <tr>\n",
       "      <th>0</th>\n",
       "      <td>10.38</td>\n",
       "      <td>1001.0</td>\n",
       "      <td>0.11840</td>\n",
       "      <td>0.27760</td>\n",
       "      <td>0.3001</td>\n",
       "      <td>0.2419</td>\n",
       "      <td>0.07871</td>\n",
       "      <td>0.9053</td>\n",
       "      <td>153.40</td>\n",
       "      <td>0.006399</td>\n",
       "      <td>0.04904</td>\n",
       "      <td>0.05373</td>\n",
       "      <td>0.01587</td>\n",
       "      <td>0.03003</td>\n",
       "      <td>0.006193</td>\n",
       "      <td>0.1622</td>\n",
       "      <td>0.6656</td>\n",
       "      <td>0.7119</td>\n",
       "      <td>0.4601</td>\n",
       "      <td>0.11890</td>\n",
       "    </tr>\n",
       "    <tr>\n",
       "      <th>1</th>\n",
       "      <td>17.77</td>\n",
       "      <td>1326.0</td>\n",
       "      <td>0.08474</td>\n",
       "      <td>0.07864</td>\n",
       "      <td>0.0869</td>\n",
       "      <td>0.1812</td>\n",
       "      <td>0.05667</td>\n",
       "      <td>0.7339</td>\n",
       "      <td>74.08</td>\n",
       "      <td>0.005225</td>\n",
       "      <td>0.01308</td>\n",
       "      <td>0.01860</td>\n",
       "      <td>0.01340</td>\n",
       "      <td>0.01389</td>\n",
       "      <td>0.003532</td>\n",
       "      <td>0.1238</td>\n",
       "      <td>0.1866</td>\n",
       "      <td>0.2416</td>\n",
       "      <td>0.2750</td>\n",
       "      <td>0.08902</td>\n",
       "    </tr>\n",
       "    <tr>\n",
       "      <th>2</th>\n",
       "      <td>21.25</td>\n",
       "      <td>1203.0</td>\n",
       "      <td>0.10960</td>\n",
       "      <td>0.15990</td>\n",
       "      <td>0.1974</td>\n",
       "      <td>0.2069</td>\n",
       "      <td>0.05999</td>\n",
       "      <td>0.7869</td>\n",
       "      <td>94.03</td>\n",
       "      <td>0.006150</td>\n",
       "      <td>0.04006</td>\n",
       "      <td>0.03832</td>\n",
       "      <td>0.02058</td>\n",
       "      <td>0.02250</td>\n",
       "      <td>0.004571</td>\n",
       "      <td>0.1444</td>\n",
       "      <td>0.4245</td>\n",
       "      <td>0.4504</td>\n",
       "      <td>0.3613</td>\n",
       "      <td>0.08758</td>\n",
       "    </tr>\n",
       "    <tr>\n",
       "      <th>3</th>\n",
       "      <td>20.38</td>\n",
       "      <td>386.1</td>\n",
       "      <td>0.14250</td>\n",
       "      <td>0.28390</td>\n",
       "      <td>0.2414</td>\n",
       "      <td>0.2597</td>\n",
       "      <td>0.09744</td>\n",
       "      <td>1.1560</td>\n",
       "      <td>27.23</td>\n",
       "      <td>0.009110</td>\n",
       "      <td>0.07458</td>\n",
       "      <td>0.05661</td>\n",
       "      <td>0.01867</td>\n",
       "      <td>0.05963</td>\n",
       "      <td>0.009208</td>\n",
       "      <td>0.2098</td>\n",
       "      <td>0.8663</td>\n",
       "      <td>0.6869</td>\n",
       "      <td>0.6638</td>\n",
       "      <td>0.17300</td>\n",
       "    </tr>\n",
       "    <tr>\n",
       "      <th>4</th>\n",
       "      <td>14.34</td>\n",
       "      <td>1297.0</td>\n",
       "      <td>0.10030</td>\n",
       "      <td>0.13280</td>\n",
       "      <td>0.1980</td>\n",
       "      <td>0.1809</td>\n",
       "      <td>0.05883</td>\n",
       "      <td>0.7813</td>\n",
       "      <td>94.44</td>\n",
       "      <td>0.011490</td>\n",
       "      <td>0.02461</td>\n",
       "      <td>0.05688</td>\n",
       "      <td>0.01885</td>\n",
       "      <td>0.01756</td>\n",
       "      <td>0.005115</td>\n",
       "      <td>0.1374</td>\n",
       "      <td>0.2050</td>\n",
       "      <td>0.4000</td>\n",
       "      <td>0.2364</td>\n",
       "      <td>0.07678</td>\n",
       "    </tr>\n",
       "  </tbody>\n",
       "</table>\n",
       "</div>"
      ],
      "text/plain": [
       "   mean texture  mean area  mean smoothness  mean compactness  mean concavity  \\\n",
       "0         10.38     1001.0          0.11840           0.27760          0.3001   \n",
       "1         17.77     1326.0          0.08474           0.07864          0.0869   \n",
       "2         21.25     1203.0          0.10960           0.15990          0.1974   \n",
       "3         20.38      386.1          0.14250           0.28390          0.2414   \n",
       "4         14.34     1297.0          0.10030           0.13280          0.1980   \n",
       "\n",
       "   mean symmetry  mean fractal dimension  texture error  area error  \\\n",
       "0         0.2419                 0.07871         0.9053      153.40   \n",
       "1         0.1812                 0.05667         0.7339       74.08   \n",
       "2         0.2069                 0.05999         0.7869       94.03   \n",
       "3         0.2597                 0.09744         1.1560       27.23   \n",
       "4         0.1809                 0.05883         0.7813       94.44   \n",
       "\n",
       "   smoothness error  compactness error  concavity error  concave points error  \\\n",
       "0          0.006399            0.04904          0.05373               0.01587   \n",
       "1          0.005225            0.01308          0.01860               0.01340   \n",
       "2          0.006150            0.04006          0.03832               0.02058   \n",
       "3          0.009110            0.07458          0.05661               0.01867   \n",
       "4          0.011490            0.02461          0.05688               0.01885   \n",
       "\n",
       "   symmetry error  fractal dimension error  worst smoothness  \\\n",
       "0         0.03003                 0.006193            0.1622   \n",
       "1         0.01389                 0.003532            0.1238   \n",
       "2         0.02250                 0.004571            0.1444   \n",
       "3         0.05963                 0.009208            0.2098   \n",
       "4         0.01756                 0.005115            0.1374   \n",
       "\n",
       "   worst compactness  worst concavity  worst symmetry  worst fractal dimension  \n",
       "0             0.6656           0.7119          0.4601                  0.11890  \n",
       "1             0.1866           0.2416          0.2750                  0.08902  \n",
       "2             0.4245           0.4504          0.3613                  0.08758  \n",
       "3             0.8663           0.6869          0.6638                  0.17300  \n",
       "4             0.2050           0.4000          0.2364                  0.07678  "
      ]
     },
     "execution_count": 6,
     "metadata": {},
     "output_type": "execute_result"
    }
   ],
   "source": [
    "features = list(dataset_df.columns)\n",
    "features = ['mean texture', 'mean area', 'mean smoothness', 'mean compactness', 'mean concavity', 'mean symmetry', 'mean fractal dimension', \n",
    "            'texture error', 'area error', 'smoothness error', 'compactness error', 'concavity error', 'concave points error', 'symmetry error', 'fractal dimension error',\n",
    "            'worst smoothness', 'worst compactness', 'worst concavity',\n",
    "            'worst symmetry', 'worst fractal dimension']\n",
    " \n",
    "filtered = dataset_df[features]\n",
    "\n",
    "filtered.head()"
   ]
  },
  {
   "cell_type": "code",
   "execution_count": 7,
   "id": "c96796f2",
   "metadata": {
    "execution": {
     "iopub.execute_input": "2022-04-16T08:45:10.321493Z",
     "iopub.status.busy": "2022-04-16T08:45:10.321171Z",
     "iopub.status.idle": "2022-04-16T08:45:10.973054Z",
     "shell.execute_reply": "2022-04-16T08:45:10.972219Z"
    },
    "executionInfo": {
     "elapsed": 1763,
     "status": "ok",
     "timestamp": 1649971955553,
     "user": {
      "displayName": "Benedict Espiritu",
      "userId": "10586568919314508963"
     },
     "user_tz": -480
    },
    "id": "GehbCpsLZu19",
    "outputId": "347e7d06-47aa-4ee3-c701-3ffe9a381576",
    "papermill": {
     "duration": 0.699018,
     "end_time": "2022-04-16T08:45:10.975165",
     "exception": false,
     "start_time": "2022-04-16T08:45:10.276147",
     "status": "completed"
    },
    "tags": []
   },
   "outputs": [
    {
     "name": "stderr",
     "output_type": "stream",
     "text": [
      "/opt/conda/lib/python3.7/site-packages/seaborn/matrix.py:198: RuntimeWarning: All-NaN slice encountered\n",
      "  vmin = np.nanmin(calc_data)\n",
      "/opt/conda/lib/python3.7/site-packages/seaborn/matrix.py:203: RuntimeWarning: All-NaN slice encountered\n",
      "  vmax = np.nanmax(calc_data)\n"
     ]
    },
    {
     "data": {
      "image/png": "[encoded data removed]",
      "text/plain": [
       "<Figure size 504x504 with 2 Axes>"
      ]
     },
     "metadata": {
      "needs_background": "light"
     },
     "output_type": "display_data"
    }
   ],
   "source": [
    "plt.figure(figsize=(7,7));\n",
    "f_corr=filtered.corr();\n",
    "sns.heatmap(f_corr[(f_corr>=0.9)&(f_corr<1.0)], linewidths=0.5, annot=True);"
   ]
  },
  {
   "cell_type": "markdown",
   "id": "91083290",
   "metadata": {
    "id": "uCmmRHR-bOol",
    "papermill": {
     "duration": 0.048422,
     "end_time": "2022-04-16T08:45:11.070266",
     "exception": false,
     "start_time": "2022-04-16T08:45:11.021844",
     "status": "completed"
    },
    "tags": []
   },
   "source": [
    "###Train Test Split"
   ]
  },
  {
   "cell_type": "code",
   "execution_count": 8,
   "id": "f5f82e7a",
   "metadata": {
    "execution": {
     "iopub.execute_input": "2022-04-16T08:45:11.165082Z",
     "iopub.status.busy": "2022-04-16T08:45:11.164359Z",
     "iopub.status.idle": "2022-04-16T08:45:11.168863Z",
     "shell.execute_reply": "2022-04-16T08:45:11.168010Z"
    },
    "id": "QGQ2wpJqbsMu",
    "papermill": {
     "duration": 0.054019,
     "end_time": "2022-04-16T08:45:11.170817",
     "exception": false,
     "start_time": "2022-04-16T08:45:11.116798",
     "status": "completed"
    },
    "tags": []
   },
   "outputs": [],
   "source": [
    "from sklearn.model_selection import train_test_split"
   ]
  },
  {
   "cell_type": "markdown",
   "id": "294ce84f",
   "metadata": {
    "id": "yb5kkwa6dBDg",
    "papermill": {
     "duration": 0.045751,
     "end_time": "2022-04-16T08:45:11.263662",
     "exception": false,
     "start_time": "2022-04-16T08:45:11.217911",
     "status": "completed"
    },
    "tags": []
   },
   "source": [
    "Split the dataset"
   ]
  },
  {
   "cell_type": "code",
   "execution_count": 9,
   "id": "c062d1c5",
   "metadata": {
    "execution": {
     "iopub.execute_input": "2022-04-16T08:45:11.358983Z",
     "iopub.status.busy": "2022-04-16T08:45:11.358571Z",
     "iopub.status.idle": "2022-04-16T08:45:11.369722Z",
     "shell.execute_reply": "2022-04-16T08:45:11.369090Z"
    },
    "id": "HCqePsdaYrEV",
    "papermill": {
     "duration": 0.061259,
     "end_time": "2022-04-16T08:45:11.371739",
     "exception": false,
     "start_time": "2022-04-16T08:45:11.310480",
     "status": "completed"
    },
    "tags": []
   },
   "outputs": [],
   "source": [
    "to_split = pd.concat([filtered, dataset_df[['Diagnosis']]], axis=1)\n",
    "# y = dataset_df[['Diagnosis']]\n",
    "\n",
    "train, test = train_test_split(to_split,train_size=0.7, shuffle=True, random_state=0)\n",
    "\n",
    "train_x = train[features]\n",
    "train_y = train.Diagnosis\n",
    "\n",
    "test_x = test[features]\n",
    "test_y = test.Diagnosis"
   ]
  },
  {
   "cell_type": "markdown",
   "id": "37bfc1b3",
   "metadata": {
    "id": "exTAkkEEs1Nl",
    "papermill": {
     "duration": 0.04564,
     "end_time": "2022-04-16T08:45:11.463394",
     "exception": false,
     "start_time": "2022-04-16T08:45:11.417754",
     "status": "completed"
    },
    "tags": []
   },
   "source": [
    "###GridSearchCV "
   ]
  },
  {
   "cell_type": "markdown",
   "id": "0d4d0b3d",
   "metadata": {
    "id": "wQwM_jGy3o4u",
    "papermill": {
     "duration": 0.045601,
     "end_time": "2022-04-16T08:45:11.555246",
     "exception": false,
     "start_time": "2022-04-16T08:45:11.509645",
     "status": "completed"
    },
    "tags": []
   },
   "source": [
    "####Linear Regression / Linear Regression CV"
   ]
  },
  {
   "cell_type": "code",
   "execution_count": 10,
   "id": "a97e8dc0",
   "metadata": {
    "execution": {
     "iopub.execute_input": "2022-04-16T08:45:11.649071Z",
     "iopub.status.busy": "2022-04-16T08:45:11.648656Z",
     "iopub.status.idle": "2022-04-16T08:46:18.452866Z",
     "shell.execute_reply": "2022-04-16T08:46:18.452025Z"
    },
    "id": "t1EU0t_UeSrD",
    "papermill": {
     "duration": 66.853912,
     "end_time": "2022-04-16T08:46:18.455183",
     "exception": false,
     "start_time": "2022-04-16T08:45:11.601271",
     "status": "completed"
    },
    "tags": []
   },
   "outputs": [
    {
     "name": "stderr",
     "output_type": "stream",
     "text": [
      "/opt/conda/lib/python3.7/site-packages/scipy/optimize/linesearch.py:327: LineSearchWarning: The line search algorithm did not converge\n",
      "  warn('The line search algorithm did not converge', LineSearchWarning)\n",
      "/opt/conda/lib/python3.7/site-packages/sklearn/utils/optimize.py:203: UserWarning: Line Search failed\n",
      "  warnings.warn(\"Line Search failed\")\n",
      "/opt/conda/lib/python3.7/site-packages/scipy/optimize/linesearch.py:327: LineSearchWarning: The line search algorithm did not converge\n",
      "  warn('The line search algorithm did not converge', LineSearchWarning)\n",
      "/opt/conda/lib/python3.7/site-packages/sklearn/utils/optimize.py:203: UserWarning: Line Search failed\n",
      "  warnings.warn(\"Line Search failed\")\n",
      "/opt/conda/lib/python3.7/site-packages/sklearn/model_selection/_validation.py:372: FitFailedWarning: \n",
      "60 fits failed out of a total of 100.\n",
      "The score on these train-test partitions for these parameters will be set to nan.\n",
      "If these failures are not expected, you can try to debug them by setting error_score='raise'.\n",
      "\n",
      "Below are more details about the failures:\n",
      "--------------------------------------------------------------------------------\n",
      "60 fits failed with the following error:\n",
      "Traceback (most recent call last):\n",
      "  File \"/opt/conda/lib/python3.7/site-packages/sklearn/model_selection/_validation.py\", line 680, in _fit_and_score\n",
      "    estimator.fit(X_train, y_train, **fit_params)\n",
      "  File \"/opt/conda/lib/python3.7/site-packages/sklearn/linear_model/_logistic.py\", line 2182, in fit\n",
      "    for label in iter_encoded_labels\n",
      "  File \"/opt/conda/lib/python3.7/site-packages/joblib/parallel.py\", line 1041, in __call__\n",
      "    if self.dispatch_one_batch(iterator):\n",
      "  File \"/opt/conda/lib/python3.7/site-packages/joblib/parallel.py\", line 859, in dispatch_one_batch\n",
      "    self._dispatch(tasks)\n",
      "  File \"/opt/conda/lib/python3.7/site-packages/joblib/parallel.py\", line 777, in _dispatch\n",
      "    job = self._backend.apply_async(batch, callback=cb)\n",
      "  File \"/opt/conda/lib/python3.7/site-packages/joblib/_parallel_backends.py\", line 208, in apply_async\n",
      "    result = ImmediateResult(func)\n",
      "  File \"/opt/conda/lib/python3.7/site-packages/joblib/_parallel_backends.py\", line 572, in __init__\n",
      "    self.results = batch()\n",
      "  File \"/opt/conda/lib/python3.7/site-packages/joblib/parallel.py\", line 263, in __call__\n",
      "    for func, args, kwargs in self.items]\n",
      "  File \"/opt/conda/lib/python3.7/site-packages/joblib/parallel.py\", line 263, in <listcomp>\n",
      "    for func, args, kwargs in self.items]\n",
      "  File \"/opt/conda/lib/python3.7/site-packages/sklearn/utils/fixes.py\", line 216, in __call__\n",
      "    return self.function(*args, **kwargs)\n",
      "  File \"/opt/conda/lib/python3.7/site-packages/sklearn/linear_model/_logistic.py\", line 1079, in _log_reg_scoring_path\n",
      "    sample_weight=sample_weight,\n",
      "  File \"/opt/conda/lib/python3.7/site-packages/sklearn/linear_model/_logistic.py\", line 800, in _logistic_regression_path\n",
      "    n_iter = np.zeros(len(Cs), dtype=np.int32)\n",
      "TypeError: object of type 'float' has no len()\n",
      "\n",
      "  warnings.warn(some_fits_failed_message, FitFailedWarning)\n",
      "/opt/conda/lib/python3.7/site-packages/sklearn/model_selection/_search.py:972: UserWarning: One or more of the test scores are non-finite: [0.91865546 0.93596639 0.91865546 0.93596639 0.92453782 0.93596639\n",
      " 0.92453782 0.93596639        nan        nan        nan        nan\n",
      "        nan        nan        nan        nan        nan        nan\n",
      "        nan        nan]\n",
      "  category=UserWarning,\n"
     ]
    }
   ],
   "source": [
    "solvers = ['newton-cg', 'liblinear']\n",
    "penalty = ['l2']\n",
    "c_values = [100, 10, 1.0, 0.1, 0.01]\n",
    "max_iter=[100, 1000]\n",
    "\n",
    "params = dict(solver=solvers, penalty=penalty, C=c_values, max_iter=max_iter)\n",
    "params_cv = dict(solver=solvers, penalty=penalty, Cs=c_values, max_iter=max_iter)\n",
    "grid_search_lr = GridSearchCV(LogisticRegression(), params, scoring='accuracy')\n",
    "grid_search_lr_cv = GridSearchCV(LogisticRegressionCV(), params_cv, scoring='accuracy');\n",
    "\n",
    "results_lr = grid_search_lr.fit(test_x, test_y)\n",
    "results_lr_cv = grid_search_lr_cv.fit(test_x, test_y)"
   ]
  },
  {
   "cell_type": "code",
   "execution_count": 11,
   "id": "84768844",
   "metadata": {
    "execution": {
     "iopub.execute_input": "2022-04-16T08:46:18.553523Z",
     "iopub.status.busy": "2022-04-16T08:46:18.553047Z",
     "iopub.status.idle": "2022-04-16T08:46:18.558075Z",
     "shell.execute_reply": "2022-04-16T08:46:18.557103Z"
    },
    "executionInfo": {
     "elapsed": 502,
     "status": "ok",
     "timestamp": 1649970741349,
     "user": {
      "displayName": "Benedict Espiritu",
      "userId": "10586568919314508963"
     },
     "user_tz": -480
    },
    "id": "hQTSLETz5Fd6",
    "outputId": "0e5065c0-b97d-47c4-ba19-94dd0f7cb1a4",
    "papermill": {
     "duration": 0.05646,
     "end_time": "2022-04-16T08:46:18.560265",
     "exception": false,
     "start_time": "2022-04-16T08:46:18.503805",
     "status": "completed"
    },
    "tags": []
   },
   "outputs": [
    {
     "name": "stdout",
     "output_type": "stream",
     "text": [
      "Logistic Regression Parameters\n",
      "0.9473949579831933\n",
      "{'C': 100, 'max_iter': 100, 'penalty': 'l2', 'solver': 'liblinear'}\n"
     ]
    }
   ],
   "source": [
    "print(\"Logistic Regression Parameters\")\n",
    "print(results_lr.best_score_)\n",
    "print(results_lr.best_params_)"
   ]
  },
  {
   "cell_type": "code",
   "execution_count": 12,
   "id": "25e80f9b",
   "metadata": {
    "execution": {
     "iopub.execute_input": "2022-04-16T08:46:18.658085Z",
     "iopub.status.busy": "2022-04-16T08:46:18.657811Z",
     "iopub.status.idle": "2022-04-16T08:46:18.662403Z",
     "shell.execute_reply": "2022-04-16T08:46:18.661731Z"
    },
    "executionInfo": {
     "elapsed": 3,
     "status": "ok",
     "timestamp": 1649970744315,
     "user": {
      "displayName": "Benedict Espiritu",
      "userId": "10586568919314508963"
     },
     "user_tz": -480
    },
    "id": "iroObgZJ5SOQ",
    "outputId": "f7e0e260-0da6-4ff0-c288-31b2990d2a52",
    "papermill": {
     "duration": 0.056099,
     "end_time": "2022-04-16T08:46:18.664601",
     "exception": false,
     "start_time": "2022-04-16T08:46:18.608502",
     "status": "completed"
    },
    "tags": []
   },
   "outputs": [
    {
     "name": "stdout",
     "output_type": "stream",
     "text": [
      "Logistic Regression CV Parameters\n",
      "0.9359663865546219\n",
      "{'Cs': 100, 'max_iter': 100, 'penalty': 'l2', 'solver': 'liblinear'}\n"
     ]
    }
   ],
   "source": [
    "print(\"Logistic Regression CV Parameters\")\n",
    "print(results_lr_cv.best_score_)\n",
    "print(results_lr_cv.best_params_)"
   ]
  },
  {
   "cell_type": "markdown",
   "id": "b9b5718b",
   "metadata": {
    "id": "1vTNdIopEf-9",
    "papermill": {
     "duration": 0.047686,
     "end_time": "2022-04-16T08:46:18.760285",
     "exception": false,
     "start_time": "2022-04-16T08:46:18.712599",
     "status": "completed"
    },
    "tags": []
   },
   "source": [
    "####SVC"
   ]
  },
  {
   "cell_type": "code",
   "execution_count": 13,
   "id": "fc4bd3cc",
   "metadata": {
    "execution": {
     "iopub.execute_input": "2022-04-16T08:46:18.857446Z",
     "iopub.status.busy": "2022-04-16T08:46:18.857149Z",
     "iopub.status.idle": "2022-04-16T08:46:19.185016Z",
     "shell.execute_reply": "2022-04-16T08:46:19.184408Z"
    },
    "id": "LBnOrnCM3yri",
    "papermill": {
     "duration": 0.378801,
     "end_time": "2022-04-16T08:46:19.187187",
     "exception": false,
     "start_time": "2022-04-16T08:46:18.808386",
     "status": "completed"
    },
    "tags": []
   },
   "outputs": [],
   "source": [
    "params = {'C': [0.1,1, 10, 100],'kernel': ['rbf', 'poly', 'sigmoid']}#, 'gamma': [1,0.1,0.01,0.001]\n",
    "grid_search_svc = GridSearchCV(SVC(), params, scoring='accuracy')\n",
    "\n",
    "results_svc = grid_search_svc.fit(test_x, test_y)"
   ]
  },
  {
   "cell_type": "code",
   "execution_count": 14,
   "id": "679d2ef3",
   "metadata": {
    "execution": {
     "iopub.execute_input": "2022-04-16T08:46:19.285838Z",
     "iopub.status.busy": "2022-04-16T08:46:19.285269Z",
     "iopub.status.idle": "2022-04-16T08:46:19.291285Z",
     "shell.execute_reply": "2022-04-16T08:46:19.290263Z"
    },
    "executionInfo": {
     "elapsed": 391,
     "status": "ok",
     "timestamp": 1649972317205,
     "user": {
      "displayName": "Benedict Espiritu",
      "userId": "10586568919314508963"
     },
     "user_tz": -480
    },
    "id": "aYLhan5e5YFQ",
    "outputId": "65fa5d52-8337-4c85-b2f9-d00e24169ca8",
    "papermill": {
     "duration": 0.059471,
     "end_time": "2022-04-16T08:46:19.294611",
     "exception": false,
     "start_time": "2022-04-16T08:46:19.235140",
     "status": "completed"
    },
    "tags": []
   },
   "outputs": [
    {
     "name": "stdout",
     "output_type": "stream",
     "text": [
      "SVC Parameters\n",
      "0.9184873949579833\n",
      "{'C': 1, 'kernel': 'poly'}\n"
     ]
    }
   ],
   "source": [
    "print(\"SVC Parameters\")\n",
    "print(results_svc.best_score_)\n",
    "print(results_svc.best_params_)"
   ]
  },
  {
   "cell_type": "markdown",
   "id": "40dd9544",
   "metadata": {
    "id": "J2JFHmhuEjxH",
    "papermill": {
     "duration": 0.048156,
     "end_time": "2022-04-16T08:46:19.392033",
     "exception": false,
     "start_time": "2022-04-16T08:46:19.343877",
     "status": "completed"
    },
    "tags": []
   },
   "source": [
    "Random Forest"
   ]
  },
  {
   "cell_type": "code",
   "execution_count": 15,
   "id": "d69e9931",
   "metadata": {
    "execution": {
     "iopub.execute_input": "2022-04-16T08:46:19.490202Z",
     "iopub.status.busy": "2022-04-16T08:46:19.489674Z",
     "iopub.status.idle": "2022-04-16T08:49:32.934111Z",
     "shell.execute_reply": "2022-04-16T08:49:32.933485Z"
    },
    "id": "yM-IU9-65ej_",
    "papermill": {
     "duration": 193.496327,
     "end_time": "2022-04-16T08:49:32.936550",
     "exception": false,
     "start_time": "2022-04-16T08:46:19.440223",
     "status": "completed"
    },
    "tags": []
   },
   "outputs": [],
   "source": [
    "param_grid = { \n",
    "    'n_estimators': [200, 500],\n",
    "    'max_features': ['auto', 'sqrt', 'log2'],\n",
    "    'max_depth' : [4,5,6,7,8],\n",
    "    'criterion' :['gini', 'entropy']\n",
    "}\n",
    "\n",
    "grid_search_rf = GridSearchCV(RandomForestClassifier(), param_grid, scoring='accuracy')\n",
    "\n",
    "results_rf = grid_search_rf.fit(test_x, test_y)"
   ]
  },
  {
   "cell_type": "code",
   "execution_count": 16,
   "id": "f866d320",
   "metadata": {
    "execution": {
     "iopub.execute_input": "2022-04-16T08:49:33.038890Z",
     "iopub.status.busy": "2022-04-16T08:49:33.038381Z",
     "iopub.status.idle": "2022-04-16T08:49:33.044545Z",
     "shell.execute_reply": "2022-04-16T08:49:33.043423Z"
    },
    "executionInfo": {
     "elapsed": 397,
     "status": "ok",
     "timestamp": 1649972320730,
     "user": {
      "displayName": "Benedict Espiritu",
      "userId": "10586568919314508963"
     },
     "user_tz": -480
    },
    "id": "2-Zx1TRN7Due",
    "outputId": "cc23e6b4-3ef1-44fe-c49f-c2381a30dfeb",
    "papermill": {
     "duration": 0.06087,
     "end_time": "2022-04-16T08:49:33.048012",
     "exception": false,
     "start_time": "2022-04-16T08:49:32.987142",
     "status": "completed"
    },
    "tags": []
   },
   "outputs": [
    {
     "name": "stdout",
     "output_type": "stream",
     "text": [
      "Random Forest Classifier Parameters\n",
      "0.9591596638655462\n",
      "{'criterion': 'gini', 'max_depth': 4, 'max_features': 'auto', 'n_estimators': 200}\n"
     ]
    }
   ],
   "source": [
    "print(\"Random Forest Classifier Parameters\")\n",
    "print(results_rf.best_score_)\n",
    "print(results_rf.best_params_)"
   ]
  },
  {
   "cell_type": "markdown",
   "id": "05e18b08",
   "metadata": {
    "id": "fYb_DT21Enqc",
    "papermill": {
     "duration": 0.04867,
     "end_time": "2022-04-16T08:49:33.146716",
     "exception": false,
     "start_time": "2022-04-16T08:49:33.098046",
     "status": "completed"
    },
    "tags": []
   },
   "source": [
    "###Decision Tree"
   ]
  },
  {
   "cell_type": "code",
   "execution_count": 17,
   "id": "29150375",
   "metadata": {
    "execution": {
     "iopub.execute_input": "2022-04-16T08:49:33.246756Z",
     "iopub.status.busy": "2022-04-16T08:49:33.246180Z",
     "iopub.status.idle": "2022-04-16T08:49:47.348230Z",
     "shell.execute_reply": "2022-04-16T08:49:47.347369Z"
    },
    "id": "NRbQYmen7NQ_",
    "papermill": {
     "duration": 14.154935,
     "end_time": "2022-04-16T08:49:47.350497",
     "exception": false,
     "start_time": "2022-04-16T08:49:33.195562",
     "status": "completed"
    },
    "tags": []
   },
   "outputs": [
    {
     "name": "stderr",
     "output_type": "stream",
     "text": [
      "/opt/conda/lib/python3.7/site-packages/sklearn/model_selection/_validation.py:372: FitFailedWarning: \n",
      "360 fits failed out of a total of 3240.\n",
      "The score on these train-test partitions for these parameters will be set to nan.\n",
      "If these failures are not expected, you can try to debug them by setting error_score='raise'.\n",
      "\n",
      "Below are more details about the failures:\n",
      "--------------------------------------------------------------------------------\n",
      "360 fits failed with the following error:\n",
      "Traceback (most recent call last):\n",
      "  File \"/opt/conda/lib/python3.7/site-packages/sklearn/model_selection/_validation.py\", line 680, in _fit_and_score\n",
      "    estimator.fit(X_train, y_train, **fit_params)\n",
      "  File \"/opt/conda/lib/python3.7/site-packages/sklearn/tree/_classes.py\", line 942, in fit\n",
      "    X_idx_sorted=X_idx_sorted,\n",
      "  File \"/opt/conda/lib/python3.7/site-packages/sklearn/tree/_classes.py\", line 254, in fit\n",
      "    % self.min_samples_split\n",
      "ValueError: min_samples_split must be an integer greater than 1 or a float in (0.0, 1.0]; got the integer 1\n",
      "\n",
      "  warnings.warn(some_fits_failed_message, FitFailedWarning)\n",
      "/opt/conda/lib/python3.7/site-packages/sklearn/model_selection/_search.py:972: UserWarning: One or more of the test scores are non-finite: [       nan 0.91260504 0.91260504 0.91260504 0.91260504 0.91260504\n",
      " 0.91260504 0.91260504 0.91260504        nan 0.91260504 0.91260504\n",
      " 0.91260504 0.91260504 0.91260504 0.91260504 0.91260504 0.91260504\n",
      "        nan 0.91260504 0.91260504 0.91260504 0.91260504 0.91260504\n",
      " 0.91260504 0.91260504 0.91260504        nan 0.91260504 0.91260504\n",
      " 0.91260504 0.91260504 0.91260504 0.91260504 0.91260504 0.91260504\n",
      "        nan 0.85966387 0.85966387 0.86554622 0.86554622 0.86554622\n",
      " 0.85411765 0.85966387 0.85966387        nan 0.86554622 0.86554622\n",
      " 0.86554622 0.86554622 0.86554622 0.86554622 0.86554622 0.86554622\n",
      "        nan 0.86554622 0.86554622 0.86554622 0.86554622 0.86554622\n",
      " 0.86554622 0.86554622 0.86554622        nan 0.88319328 0.88319328\n",
      " 0.88319328 0.88319328 0.88319328 0.88319328 0.88319328 0.88319328\n",
      "        nan 0.87747899 0.87747899 0.89478992 0.88336134 0.87747899\n",
      " 0.89512605 0.88890756 0.89478992        nan 0.88890756 0.89478992\n",
      " 0.88890756 0.89478992 0.88890756 0.89478992 0.88890756 0.89478992\n",
      "        nan 0.89478992 0.88890756 0.88890756 0.88890756 0.89478992\n",
      " 0.88890756 0.89478992 0.88890756        nan 0.91243697 0.91243697\n",
      " 0.90655462 0.91243697 0.90655462 0.90655462 0.90655462 0.91243697\n",
      "        nan 0.90067227 0.89512605 0.8892437  0.8892437  0.8892437\n",
      " 0.89512605 0.91243697 0.8892437         nan 0.90067227 0.90655462\n",
      " 0.90067227 0.90067227 0.90067227 0.90067227 0.90067227 0.90067227\n",
      "        nan 0.90067227 0.88890756 0.89478992 0.88890756 0.88890756\n",
      " 0.90067227 0.90067227 0.90067227        nan 0.91831933 0.91831933\n",
      " 0.91243697 0.91831933 0.91831933 0.92420168 0.92420168 0.91243697\n",
      "        nan 0.90655462 0.87764706 0.89512605 0.90067227 0.9010084\n",
      " 0.89478992 0.90067227 0.90067227        nan 0.90067227 0.90067227\n",
      " 0.90067227 0.90067227 0.90067227 0.90067227 0.90067227 0.90067227\n",
      "        nan 0.88890756 0.90655462 0.90067227 0.90655462 0.90067227\n",
      " 0.88890756 0.90067227 0.89478992        nan 0.91831933 0.91243697\n",
      " 0.90655462 0.92420168 0.91831933 0.93008403 0.91243697 0.91831933\n",
      "        nan 0.90067227 0.89478992 0.8892437  0.87159664 0.9010084\n",
      " 0.8892437  0.89478992 0.87747899        nan 0.90067227 0.90067227\n",
      " 0.90067227 0.90655462 0.90067227 0.90067227 0.90067227 0.90067227\n",
      "        nan 0.90067227 0.88890756 0.90655462 0.90655462 0.90067227\n",
      " 0.90067227 0.88890756 0.90067227        nan 0.91831933 0.92420168\n",
      " 0.91831933 0.92420168 0.92420168 0.92420168 0.91243697 0.90655462\n",
      "        nan 0.88319328 0.90067227 0.88336134 0.87747899 0.90067227\n",
      " 0.89478992 0.91243697 0.88302521        nan 0.90067227 0.90067227\n",
      " 0.90655462 0.90067227 0.90067227 0.90655462 0.90067227 0.89478992\n",
      "        nan 0.90067227 0.90067227 0.90655462 0.90067227 0.90067227\n",
      " 0.88890756 0.89478992 0.90067227        nan 0.91831933 0.91243697\n",
      " 0.90655462 0.92420168 0.92420168 0.91831933 0.92420168 0.91831933\n",
      "        nan 0.91226891 0.90655462 0.8892437  0.88336134 0.91243697\n",
      " 0.89478992 0.8892437  0.87159664        nan 0.90067227 0.90655462\n",
      " 0.90067227 0.90655462 0.90067227 0.90067227 0.90067227 0.90067227\n",
      "        nan 0.90655462 0.90655462 0.90655462 0.90067227 0.88890756\n",
      " 0.88890756 0.90067227 0.90067227        nan 0.91831933 0.91831933\n",
      " 0.92420168 0.92420168 0.93008403 0.92420168 0.91243697 0.92420168\n",
      "        nan 0.88336134 0.9010084  0.90067227 0.8892437  0.90655462\n",
      " 0.88302521 0.91243697 0.90067227        nan 0.90067227 0.90067227\n",
      " 0.90067227 0.90067227 0.90655462 0.90067227 0.90067227 0.90067227\n",
      "        nan 0.88890756 0.90655462 0.90067227 0.90067227 0.90067227\n",
      " 0.90655462 0.90655462 0.90067227        nan 0.92420168 0.92420168\n",
      " 0.91831933 0.92420168 0.92420168 0.91831933 0.91243697 0.91831933\n",
      "        nan 0.91260504 0.91260504 0.91260504 0.91260504 0.91260504\n",
      " 0.91260504 0.91260504 0.91260504        nan 0.91260504 0.91260504\n",
      " 0.91260504 0.91260504 0.91260504 0.91260504 0.91260504 0.91260504\n",
      "        nan 0.91260504 0.91260504 0.91260504 0.91260504 0.91260504\n",
      " 0.91260504 0.91260504 0.91260504        nan 0.91260504 0.91260504\n",
      " 0.91260504 0.91260504 0.91260504 0.91260504 0.91260504 0.91260504\n",
      "        nan 0.87731092 0.87142857 0.86588235 0.86588235 0.87731092\n",
      " 0.86588235 0.86588235 0.87142857        nan 0.87731092 0.87731092\n",
      " 0.87731092 0.87731092 0.87731092 0.87731092 0.87731092 0.87731092\n",
      "        nan 0.87731092 0.87731092 0.87731092 0.87731092 0.87731092\n",
      " 0.87731092 0.87731092 0.87731092        nan 0.89495798 0.89495798\n",
      " 0.89495798 0.89495798 0.89495798 0.89495798 0.89495798 0.89495798\n",
      "        nan 0.90655462 0.90655462 0.89512605 0.90655462 0.9010084\n",
      " 0.89512605 0.8892437  0.90655462        nan 0.90655462 0.91243697\n",
      " 0.91243697 0.91243697 0.91243697 0.91243697 0.91243697 0.90655462\n",
      "        nan 0.91243697 0.90655462 0.91243697 0.91243697 0.90655462\n",
      " 0.91243697 0.90655462 0.90655462        nan 0.93008403 0.93008403\n",
      " 0.93008403 0.92420168 0.92420168 0.92420168 0.93008403 0.92420168\n",
      "        nan 0.89512605 0.90655462 0.89512605 0.91243697 0.89512605\n",
      " 0.9010084  0.90067227 0.89512605        nan 0.91243697 0.89478992\n",
      " 0.91831933 0.90655462 0.91831933 0.90655462 0.91243697 0.90655462\n",
      "        nan 0.91243697 0.91243697 0.90655462 0.90655462 0.91243697\n",
      " 0.91243697 0.90655462 0.90655462        nan 0.92420168 0.93008403\n",
      " 0.92420168 0.92420168 0.92420168 0.93008403 0.93008403 0.92420168\n",
      "        nan 0.90067227 0.90689076 0.91277311 0.90655462 0.9010084\n",
      " 0.90655462 0.90655462 0.91243697        nan 0.91243697 0.90655462\n",
      " 0.91243697 0.91243697 0.90655462 0.91243697 0.91243697 0.91831933\n",
      "        nan 0.91243697 0.91243697 0.91243697 0.91243697 0.90655462\n",
      " 0.91243697 0.90655462 0.90655462        nan 0.92420168 0.93008403\n",
      " 0.93008403 0.92420168 0.92420168 0.92420168 0.93008403 0.92420168\n",
      "        nan 0.89529412 0.90655462 0.91243697 0.9010084  0.90655462\n",
      " 0.91243697 0.90655462 0.9010084         nan 0.91243697 0.91831933\n",
      " 0.91831933 0.91243697 0.90655462 0.91831933 0.91831933 0.90655462\n",
      "        nan 0.90655462 0.90655462 0.91243697 0.91243697 0.91243697\n",
      " 0.91243697 0.90655462 0.90655462        nan 0.92420168 0.92420168\n",
      " 0.93008403 0.92420168 0.93008403 0.92420168 0.92420168 0.92420168\n",
      "        nan 0.89512605 0.90067227 0.90067227 0.91831933 0.91243697\n",
      " 0.89512605 0.90067227 0.9010084         nan 0.91831933 0.90655462\n",
      " 0.91243697 0.91831933 0.90655462 0.91243697 0.91243697 0.92420168\n",
      "        nan 0.90655462 0.90655462 0.91243697 0.91243697 0.90655462\n",
      " 0.90655462 0.91243697 0.90655462        nan 0.92420168 0.92420168\n",
      " 0.92420168 0.93008403 0.92420168 0.92420168 0.92420168 0.92420168\n",
      "        nan 0.9010084  0.89512605 0.9010084  0.90655462 0.9010084\n",
      " 0.89512605 0.88336134 0.90067227        nan 0.91243697 0.90655462\n",
      " 0.91243697 0.90067227 0.91243697 0.91243697 0.91243697 0.91243697\n",
      "        nan 0.90655462 0.90655462 0.90655462 0.90655462 0.91243697\n",
      " 0.90655462 0.91243697 0.90655462        nan 0.92420168 0.92420168\n",
      " 0.92420168 0.92420168 0.92420168 0.92420168 0.92420168 0.92420168\n",
      "        nan 0.91243697 0.89512605 0.90689076 0.90655462 0.90655462\n",
      " 0.90067227 0.90655462 0.8892437         nan 0.91243697 0.91831933\n",
      " 0.91831933 0.91243697 0.91831933 0.91243697 0.90655462 0.90655462\n",
      "        nan 0.90655462 0.91243697 0.90655462 0.90655462 0.91243697\n",
      " 0.90655462 0.91243697 0.90655462        nan 0.92420168 0.93008403\n",
      " 0.93008403 0.92420168 0.92420168 0.93008403 0.92420168 0.93008403]\n",
      "  category=UserWarning,\n"
     ]
    }
   ],
   "source": [
    "params={'criterion':['gini','entropy'],'max_depth':range(1,10),'min_samples_split':range(1,10),'min_samples_leaf':range(1,5)}\n",
    "\n",
    "grid_search_dt = GridSearchCV(DecisionTreeClassifier(), params, scoring='accuracy')\n",
    "\n",
    "results_dt = grid_search_dt.fit(test_x, test_y)"
   ]
  },
  {
   "cell_type": "code",
   "execution_count": 18,
   "id": "d801b05b",
   "metadata": {
    "execution": {
     "iopub.execute_input": "2022-04-16T08:49:47.450681Z",
     "iopub.status.busy": "2022-04-16T08:49:47.450105Z",
     "iopub.status.idle": "2022-04-16T08:49:47.456232Z",
     "shell.execute_reply": "2022-04-16T08:49:47.454981Z"
    },
    "executionInfo": {
     "elapsed": 2,
     "status": "ok",
     "timestamp": 1649972321828,
     "user": {
      "displayName": "Benedict Espiritu",
      "userId": "10586568919314508963"
     },
     "user_tz": -480
    },
    "id": "3nyFKppW8okq",
    "outputId": "13a9ca74-1b36-4e84-fe19-3a4214db2a02",
    "papermill": {
     "duration": 0.058216,
     "end_time": "2022-04-16T08:49:47.458182",
     "exception": false,
     "start_time": "2022-04-16T08:49:47.399966",
     "status": "completed"
    },
    "tags": []
   },
   "outputs": [
    {
     "name": "stdout",
     "output_type": "stream",
     "text": [
      "Random Forest Classifier Parameters\n",
      "0.9300840336134455\n",
      "{'criterion': 'gini', 'max_depth': 5, 'min_samples_leaf': 4, 'min_samples_split': 7}\n"
     ]
    }
   ],
   "source": [
    "print(\"Random Forest Classifier Parameters\")\n",
    "print(results_dt.best_score_)\n",
    "print(results_dt.best_params_)"
   ]
  },
  {
   "cell_type": "markdown",
   "id": "4278152b",
   "metadata": {
    "id": "nPuzoE-wEq4L",
    "papermill": {
     "duration": 0.048643,
     "end_time": "2022-04-16T08:49:47.556658",
     "exception": false,
     "start_time": "2022-04-16T08:49:47.508015",
     "status": "completed"
    },
    "tags": []
   },
   "source": [
    "###Comparing Default and GridSearchCV Results"
   ]
  },
  {
   "cell_type": "code",
   "execution_count": 19,
   "id": "7eeb78c8",
   "metadata": {
    "execution": {
     "iopub.execute_input": "2022-04-16T08:49:47.656407Z",
     "iopub.status.busy": "2022-04-16T08:49:47.656125Z",
     "iopub.status.idle": "2022-04-16T08:49:47.659922Z",
     "shell.execute_reply": "2022-04-16T08:49:47.659032Z"
    },
    "id": "pK0SuRNltgFx",
    "papermill": {
     "duration": 0.056025,
     "end_time": "2022-04-16T08:49:47.662024",
     "exception": false,
     "start_time": "2022-04-16T08:49:47.605999",
     "status": "completed"
    },
    "tags": []
   },
   "outputs": [],
   "source": [
    "from sklearn.metrics import accuracy_score"
   ]
  },
  {
   "cell_type": "code",
   "execution_count": 20,
   "id": "e128f333",
   "metadata": {
    "execution": {
     "iopub.execute_input": "2022-04-16T08:49:47.763385Z",
     "iopub.status.busy": "2022-04-16T08:49:47.762868Z",
     "iopub.status.idle": "2022-04-16T08:49:47.768177Z",
     "shell.execute_reply": "2022-04-16T08:49:47.767686Z"
    },
    "id": "yhbSwide1Xhr",
    "papermill": {
     "duration": 0.058206,
     "end_time": "2022-04-16T08:49:47.770046",
     "exception": false,
     "start_time": "2022-04-16T08:49:47.711840",
     "status": "completed"
    },
    "tags": []
   },
   "outputs": [],
   "source": [
    "def train_test_scores(train_x, train_y, test_x, test_y, model, model_name):\n",
    "  print(model_name)\n",
    "  print(\"\\tTest Set Accuracy:{}\".format(100*accuracy_score(test_y, model.predict(test_x))))\n",
    "  print(\"\\tTraining Set Accuracy:{}\".format(100*accuracy_score(train_y, model.predict(train_x))))"
   ]
  },
  {
   "cell_type": "code",
   "execution_count": 21,
   "id": "0b2c8f6a",
   "metadata": {
    "execution": {
     "iopub.execute_input": "2022-04-16T08:49:47.869816Z",
     "iopub.status.busy": "2022-04-16T08:49:47.869114Z",
     "iopub.status.idle": "2022-04-16T08:49:47.905645Z",
     "shell.execute_reply": "2022-04-16T08:49:47.904607Z"
    },
    "id": "oSt0Abkas6Mm",
    "papermill": {
     "duration": 0.089118,
     "end_time": "2022-04-16T08:49:47.907933",
     "exception": false,
     "start_time": "2022-04-16T08:49:47.818815",
     "status": "completed"
    },
    "tags": []
   },
   "outputs": [
    {
     "name": "stderr",
     "output_type": "stream",
     "text": [
      "/opt/conda/lib/python3.7/site-packages/sklearn/linear_model/_logistic.py:818: ConvergenceWarning: lbfgs failed to converge (status=1):\n",
      "STOP: TOTAL NO. of ITERATIONS REACHED LIMIT.\n",
      "\n",
      "Increase the number of iterations (max_iter) or scale the data as shown in:\n",
      "    https://scikit-learn.org/stable/modules/preprocessing.html\n",
      "Please also refer to the documentation for alternative solver options:\n",
      "    https://scikit-learn.org/stable/modules/linear_model.html#logistic-regression\n",
      "  extra_warning_msg=_LOGISTIC_SOLVER_CONVERGENCE_MSG,\n"
     ]
    }
   ],
   "source": [
    "log_reg = LogisticRegression().fit(train_x, train_y)"
   ]
  },
  {
   "cell_type": "code",
   "execution_count": 22,
   "id": "3c50a00f",
   "metadata": {
    "execution": {
     "iopub.execute_input": "2022-04-16T08:49:48.008674Z",
     "iopub.status.busy": "2022-04-16T08:49:48.008421Z",
     "iopub.status.idle": "2022-04-16T08:49:48.141804Z",
     "shell.execute_reply": "2022-04-16T08:49:48.140760Z"
    },
    "papermill": {
     "duration": 0.186532,
     "end_time": "2022-04-16T08:49:48.144073",
     "exception": false,
     "start_time": "2022-04-16T08:49:47.957541",
     "status": "completed"
    },
    "tags": []
   },
   "outputs": [],
   "source": [
    "log_reg_cv = LogisticRegressionCV(cv=5, solver='liblinear').fit(train_x, train_y)"
   ]
  },
  {
   "cell_type": "code",
   "execution_count": 23,
   "id": "f7d87675",
   "metadata": {
    "execution": {
     "iopub.execute_input": "2022-04-16T08:49:48.245224Z",
     "iopub.status.busy": "2022-04-16T08:49:48.244925Z",
     "iopub.status.idle": "2022-04-16T08:49:48.254775Z",
     "shell.execute_reply": "2022-04-16T08:49:48.254175Z"
    },
    "papermill": {
     "duration": 0.06272,
     "end_time": "2022-04-16T08:49:48.256596",
     "exception": false,
     "start_time": "2022-04-16T08:49:48.193876",
     "status": "completed"
    },
    "tags": []
   },
   "outputs": [],
   "source": [
    "svc = SVC().fit(train_x, train_y)"
   ]
  },
  {
   "cell_type": "code",
   "execution_count": 24,
   "id": "e8291bf1",
   "metadata": {
    "execution": {
     "iopub.execute_input": "2022-04-16T08:49:48.357850Z",
     "iopub.status.busy": "2022-04-16T08:49:48.357343Z",
     "iopub.status.idle": "2022-04-16T08:49:48.581381Z",
     "shell.execute_reply": "2022-04-16T08:49:48.580791Z"
    },
    "papermill": {
     "duration": 0.277406,
     "end_time": "2022-04-16T08:49:48.583480",
     "exception": false,
     "start_time": "2022-04-16T08:49:48.306074",
     "status": "completed"
    },
    "tags": []
   },
   "outputs": [],
   "source": [
    "rf = RandomForestClassifier().fit(train_x, train_y)"
   ]
  },
  {
   "cell_type": "code",
   "execution_count": 25,
   "id": "975c7a39",
   "metadata": {
    "execution": {
     "iopub.execute_input": "2022-04-16T08:49:48.687611Z",
     "iopub.status.busy": "2022-04-16T08:49:48.687099Z",
     "iopub.status.idle": "2022-04-16T08:49:48.697304Z",
     "shell.execute_reply": "2022-04-16T08:49:48.696699Z"
    },
    "papermill": {
     "duration": 0.062802,
     "end_time": "2022-04-16T08:49:48.699048",
     "exception": false,
     "start_time": "2022-04-16T08:49:48.636246",
     "status": "completed"
    },
    "tags": []
   },
   "outputs": [],
   "source": [
    "dec_tree = DecisionTreeClassifier().fit(train_x, train_y)"
   ]
  },
  {
   "cell_type": "markdown",
   "id": "414cdffe",
   "metadata": {
    "id": "vJnPUQRhCXzG",
    "papermill": {
     "duration": 0.0513,
     "end_time": "2022-04-16T08:49:48.799649",
     "exception": false,
     "start_time": "2022-04-16T08:49:48.748349",
     "status": "completed"
    },
    "tags": []
   },
   "source": [
    "Default Parameters:"
   ]
  },
  {
   "cell_type": "code",
   "execution_count": 26,
   "id": "d9c5b7b2",
   "metadata": {
    "execution": {
     "iopub.execute_input": "2022-04-16T08:49:48.903552Z",
     "iopub.status.busy": "2022-04-16T08:49:48.902937Z",
     "iopub.status.idle": "2022-04-16T08:49:48.962373Z",
     "shell.execute_reply": "2022-04-16T08:49:48.961592Z"
    },
    "executionInfo": {
     "elapsed": 8,
     "status": "ok",
     "timestamp": 1649971958796,
     "user": {
      "displayName": "Benedict Espiritu",
      "userId": "10586568919314508963"
     },
     "user_tz": -480
    },
    "id": "2frURdUpu45Z",
    "outputId": "74fe0543-4a8c-4add-ea0c-5f060e1f9cd4",
    "papermill": {
     "duration": 0.114791,
     "end_time": "2022-04-16T08:49:48.965618",
     "exception": false,
     "start_time": "2022-04-16T08:49:48.850827",
     "status": "completed"
    },
    "tags": []
   },
   "outputs": [
    {
     "name": "stdout",
     "output_type": "stream",
     "text": [
      "Logistic Regression\n",
      "\tTest Set Accuracy:94.15204678362574\n",
      "\tTraining Set Accuracy:94.47236180904522\n",
      "Logistic Regression CV\n",
      "\tTest Set Accuracy:94.73684210526315\n",
      "\tTraining Set Accuracy:98.24120603015075\n",
      "Support Vector Classifier\n",
      "\tTest Set Accuracy:87.71929824561403\n",
      "\tTraining Set Accuracy:86.68341708542714\n",
      "Random Forest Classifier\n",
      "\tTest Set Accuracy:94.73684210526315\n",
      "\tTraining Set Accuracy:100.0\n",
      "Decision Tree Classifier\n",
      "\tTest Set Accuracy:85.96491228070175\n",
      "\tTraining Set Accuracy:100.0\n"
     ]
    }
   ],
   "source": [
    "#Logistic Regression Accuracy Score\n",
    "train_test_scores(train_x, train_y, test_x, test_y, log_reg, 'Logistic Regression')\n",
    "\n",
    "#Logistic Regression CV Accuracy Score\n",
    "train_test_scores(train_x, train_y, test_x, test_y, log_reg_cv, 'Logistic Regression CV')\n",
    "\n",
    "#Support Vector Classifier Accuracy Score\n",
    "train_test_scores(train_x, train_y, test_x, test_y, svc, 'Support Vector Classifier')\n",
    "\n",
    "#Random Forest Classifier Accuracy Score\n",
    "train_test_scores(train_x, train_y, test_x, test_y, rf, 'Random Forest Classifier')\n",
    "\n",
    "#Decision Tree Classifier Accuracy Score\n",
    "train_test_scores(train_x, train_y, test_x, test_y, dec_tree, 'Decision Tree Classifier')"
   ]
  },
  {
   "cell_type": "markdown",
   "id": "1d4ebbfc",
   "metadata": {
    "id": "rHMdl_8xu72D",
    "papermill": {
     "duration": 0.050878,
     "end_time": "2022-04-16T08:49:49.070401",
     "exception": false,
     "start_time": "2022-04-16T08:49:49.019523",
     "status": "completed"
    },
    "tags": []
   },
   "source": [
    "From the results, it seems that the models that classify new inputs better are:\n",
    "\n",
    "\n",
    "*   Logistic Regression;\n",
    "*   Logistic Regression CV; and\n",
    "*   Support Vector Classifier\n",
    "\n",
    "Meanwhile, the Random Forest and Decision Tree Classifiers seem to be overfitting as its training set accuracy is 100% but with a testing set accuracy of less. \n",
    "\n",
    "It looks like Logistic Regression CV is almost overfitting and SVC seems to react better to the input (training set)."
   ]
  },
  {
   "cell_type": "markdown",
   "id": "1b332a66",
   "metadata": {
    "id": "6oSat2fRCaDN",
    "papermill": {
     "duration": 0.050268,
     "end_time": "2022-04-16T08:49:49.171592",
     "exception": false,
     "start_time": "2022-04-16T08:49:49.121324",
     "status": "completed"
    },
    "tags": []
   },
   "source": [
    "GridSearchCV \"Best\" Parameters:"
   ]
  },
  {
   "cell_type": "code",
   "execution_count": 27,
   "id": "0d02d0fc",
   "metadata": {
    "execution": {
     "iopub.execute_input": "2022-04-16T08:49:49.273755Z",
     "iopub.status.busy": "2022-04-16T08:49:49.273324Z",
     "iopub.status.idle": "2022-04-16T08:49:51.724084Z",
     "shell.execute_reply": "2022-04-16T08:49:51.723016Z"
    },
    "executionInfo": {
     "elapsed": 2578,
     "status": "ok",
     "timestamp": 1649973019040,
     "user": {
      "displayName": "Benedict Espiritu",
      "userId": "10586568919314508963"
     },
     "user_tz": -480
    },
    "id": "1GASm5dB272B",
    "outputId": "d387df53-5e31-4a47-ab86-abbb3979673f",
    "papermill": {
     "duration": 2.504458,
     "end_time": "2022-04-16T08:49:51.726371",
     "exception": false,
     "start_time": "2022-04-16T08:49:49.221913",
     "status": "completed"
    },
    "tags": []
   },
   "outputs": [
    {
     "name": "stdout",
     "output_type": "stream",
     "text": [
      "Logistic Regression\n",
      "\tTest Set Accuracy:94.15204678362574\n",
      "\tTraining Set Accuracy:97.98994974874373\n",
      "Logistic Regression CV\n",
      "\tTest Set Accuracy:94.73684210526315\n",
      "\tTraining Set Accuracy:98.24120603015075\n",
      "Support Vector Classifier\n",
      "\tTest Set Accuracy:89.47368421052632\n",
      "\tTraining Set Accuracy:87.43718592964824\n",
      "Random Forest Classifier\n",
      "\tTest Set Accuracy:93.56725146198829\n",
      "\tTraining Set Accuracy:99.49748743718592\n",
      "Decision Tree Classifier\n",
      "\tTest Set Accuracy:85.96491228070175\n",
      "\tTraining Set Accuracy:96.73366834170855\n"
     ]
    }
   ],
   "source": [
    "#Logistic Regression Accuracy Score\n",
    "model1 = LogisticRegression(C= 100, penalty= 'l2', solver= 'liblinear').fit(train_x, train_y)\n",
    "train_test_scores(train_x, train_y, test_x, test_y, model1, 'Logistic Regression')\n",
    "\n",
    "#Logistic Regression CV Accuracy Score\n",
    "model2 = LogisticRegressionCV(Cs= 100, penalty= 'l2', solver= 'liblinear').fit(train_x, train_y)\n",
    "train_test_scores(train_x, train_y, test_x, test_y, model2, 'Logistic Regression CV')\n",
    "\n",
    "#Support Vector Classifier Accuracy Score\n",
    "model3 = SVC(C = 1, kernel = 'poly').fit(train_x, train_y)\n",
    "train_test_scores(train_x, train_y, test_x, test_y, model3, 'Support Vector Classifier')\n",
    "\n",
    "#Random Forest Classifier Accuracy Score\n",
    "model4 = RandomForestClassifier(criterion = 'gini', max_depth = 5, max_features = 'auto', n_estimators = 500).fit(train_x, train_y)\n",
    "train_test_scores(train_x, train_y, test_x, test_y, model4, 'Random Forest Classifier')\n",
    "\n",
    "#Decision Tree Classifier Accuracy Score\n",
    "model5 = DecisionTreeClassifier(criterion = 'gini', max_depth = 5, min_samples_leaf = 4, min_samples_split = 6).fit(train_x, train_y)\n",
    "train_test_scores(train_x, train_y, test_x, test_y, model5, 'Decision Tree Classifier')"
   ]
  },
  {
   "cell_type": "markdown",
   "id": "99551fb9",
   "metadata": {
    "id": "a1NbnAEDCrXT",
    "papermill": {
     "duration": 0.05296,
     "end_time": "2022-04-16T08:49:51.834113",
     "exception": false,
     "start_time": "2022-04-16T08:49:51.781153",
     "status": "completed"
    },
    "tags": []
   },
   "source": [
    "*   Logistic Regression increased in training set accuracy\n",
    "*   Logistic Regression CV test set accuracy increased\n",
    "*   SVC improved so much\n",
    "*   Random Forest Classifier and Decision Tree Classifier is overfitting less than before. \n",
    "\n"
   ]
  }
 ],
 "metadata": {
  "kernelspec": {
   "display_name": "Python 3",
   "language": "python",
   "name": "python3"
  },
  "language_info": {
   "codemirror_mode": {
    "name": "ipython",
    "version": 3
   },
   "file_extension": ".py",
   "mimetype": "text/x-python",
   "name": "python",
   "nbconvert_exporter": "python",
   "pygments_lexer": "ipython3",
   "version": "3.7.12"
  },
  "papermill": {
   "default_parameters": {},
   "duration": 295.932782,
   "end_time": "2022-04-16T08:49:52.607691",
   "environment_variables": {},
   "exception": null,
   "input_path": "__notebook__.ipynb",
   "output_path": "__notebook__.ipynb",
   "parameters": {},
   "start_time": "2022-04-16T08:44:56.674909",
   "version": "2.3.4"
  }
 },
 "nbformat": 4,
 "nbformat_minor": 5
}
